{
 "cells": [
  {
   "cell_type": "code",
   "execution_count": 17,
   "metadata": {},
   "outputs": [
    {
     "name": "stdout",
     "output_type": "stream",
     "text": [
      "28.26\n"
     ]
    }
   ],
   "source": [
    "#area of circle\n",
    "r=3\n",
    "pi=3.14\n",
    "area=pi*(r*r)\n",
    "print(area)"
   ]
  },
  {
   "cell_type": "code",
   "execution_count": 2,
   "metadata": {},
   "outputs": [
    {
     "name": "stdout",
     "output_type": "stream",
     "text": [
      "88000.0\n"
     ]
    }
   ],
   "source": [
    "#gross salary calculation\n",
    "bsal=80000\n",
    "hra=(bsal*2/100)\n",
    "da=(bsal*8/100)\n",
    "gsal=bsal+hra+da\n",
    "print(gsal)\n"
   ]
  },
  {
   "cell_type": "code",
   "execution_count": 22,
   "metadata": {},
   "outputs": [
    {
     "name": "stdout",
     "output_type": "stream",
     "text": [
      "person eligible for vote\n"
     ]
    }
   ],
   "source": [
    "#person eligible for vote\n",
    "\n",
    "\n",
    "age=int(input(\"Enter age\"))\n",
    "if(age>=18):\n",
    "  print(\"person eligible for vote\")\n",
    "else:\n",
    "   print(\"not eligible for vote\")\n",
    "   "
   ]
  },
  {
   "cell_type": "code",
   "execution_count": 23,
   "metadata": {},
   "outputs": [
    {
     "name": "stdout",
     "output_type": "stream",
     "text": [
      "Triangle possible\n"
     ]
    }
   ],
   "source": [
    "side1=int(input(\"Enter 1st side\"))\n",
    "side2=int(input(\"Enter 2nd side\"))\n",
    "side3=int(input(\"Enter 3rd side\"))\n",
    "if(side1==side2==side3):\n",
    "    print(\"Triangle possible\")"
   ]
  },
  {
   "cell_type": "code",
   "execution_count": 31,
   "metadata": {},
   "outputs": [
    {
     "name": "stdout",
     "output_type": "stream",
     "text": [
      "not a vowel\n"
     ]
    }
   ],
   "source": [
    "a=['a','e','i','o','u']\n",
    "b=input(\"enter a character\")\n",
    "if b in a:\n",
    "    print(\"vowel\")\n",
    "else:\n",
    "    print(\"not a vowel\")"
   ]
  },
  {
   "cell_type": "code",
   "execution_count": 3,
   "metadata": {},
   "outputs": [
    {
     "name": "stdout",
     "output_type": "stream",
     "text": [
      "x is greater than 5 but y is less than 2\n"
     ]
    }
   ],
   "source": [
    "x=9\n",
    "y=1\n",
    "if x>5:\n",
    "    if y>2:\n",
    "        print(\"Both x and y are greater than 5 and 2\")\n",
    "    else:\n",
    "        print(\"x is greater than 5 but y is less than 2\")\n",
    "else:\n",
    "    print(\"x is not greater than 5\")            "
   ]
  },
  {
   "cell_type": "code",
   "execution_count": 5,
   "metadata": {},
   "outputs": [
    {
     "name": "stdout",
     "output_type": "stream",
     "text": [
      "Password doesn't match\n"
     ]
    }
   ],
   "source": [
    "#Account creation nested if code\n",
    "username = input(\"Enter The Username\")\n",
    "email = input(\"Enter The email\")\n",
    "pwd = input(\"Enter The Password\")\n",
    "pwd2 = input(\"Enter The Password again\")\n",
    "if len(username)>=4 and len(username)<=15:\n",
    "    if '@'in email and len(email)>0:\n",
    "        if pwd==pwd2:\n",
    "            print(\"Account created successfully👍\")\n",
    "        else:\n",
    "            print(\"Password doesn't match\")\n",
    "    else:\n",
    "        print(\"Wrong Email 🤦‍♂️\")\n",
    "else:\n",
    "    print(\"Invalid username\")\n",
    "\n"
   ]
  },
  {
   "cell_type": "markdown",
   "metadata": {},
   "source": [
    "LOOPS"
   ]
  },
  {
   "cell_type": "code",
   "execution_count": 9,
   "metadata": {},
   "outputs": [
    {
     "name": "stdout",
     "output_type": "stream",
     "text": [
      "2 3 4 5 6 "
     ]
    }
   ],
   "source": [
    "# for loop in list\n",
    "\n",
    "a=[2,3,4,5,6]\n",
    "for i in a:\n",
    "    print(i, end=\" \")    #end=\" \" used to print elements in one line\n"
   ]
  },
  {
   "cell_type": "code",
   "execution_count": 18,
   "metadata": {},
   "outputs": [
    {
     "name": "stdout",
     "output_type": "stream",
     "text": [
      "chirag\n",
      "chirag\n",
      "chirag\n",
      "chirag\n",
      "chirag\n",
      "chirag\n",
      "chirag\n",
      "chirag\n",
      "chirag\n",
      "chirag\n"
     ]
    }
   ],
   "source": [
    "# for loop in range\n",
    "\n",
    "for i in range(1,11):\n",
    "  print(\"chirag\")"
   ]
  },
  {
   "cell_type": "code",
   "execution_count": 7,
   "metadata": {},
   "outputs": [
    {
     "name": "stdout",
     "output_type": "stream",
     "text": [
      "chirag\n",
      "chirag\n",
      "chirag\n",
      "chirag\n",
      "chirag\n",
      "chirag\n",
      "chirag\n",
      "chirag\n",
      "chirag\n",
      "chirag\n"
     ]
    }
   ],
   "source": [
    "#while loop\n",
    "\n",
    "a=1\n",
    "while a<=10:\n",
    "    print(\"chirag\")\n",
    "    a+=1\n"
   ]
  },
  {
   "cell_type": "code",
   "execution_count": 8,
   "metadata": {},
   "outputs": [
    {
     "name": "stdout",
     "output_type": "stream",
     "text": [
      "10\n",
      "9\n",
      "8\n",
      "7\n",
      "6\n",
      "5\n",
      "4\n",
      "3\n",
      "2\n",
      "1\n"
     ]
    }
   ],
   "source": [
    "#while loop\n",
    "\n",
    "count=10\n",
    "while count>0:\n",
    "    print(count)\n",
    "    count-=1\n",
    "    "
   ]
  },
  {
   "cell_type": "code",
   "execution_count": 24,
   "metadata": {},
   "outputs": [
    {
     "name": "stdout",
     "output_type": "stream",
     "text": [
      "2\n",
      "4\n",
      "6\n",
      "8\n",
      "10\n",
      "12\n",
      "14\n",
      "16\n",
      "18\n",
      "20\n"
     ]
    }
   ],
   "source": [
    "#even number with while loop\n",
    "\n",
    "a=2\n",
    "while a<=20:\n",
    "    print(a)\n",
    "    a+=2"
   ]
  },
  {
   "cell_type": "code",
   "execution_count": 25,
   "metadata": {},
   "outputs": [
    {
     "name": "stdout",
     "output_type": "stream",
     "text": [
      "9\n",
      "18\n",
      "27\n",
      "36\n",
      "45\n",
      "54\n",
      "63\n",
      "72\n",
      "81\n",
      "90\n"
     ]
    }
   ],
   "source": [
    "#table of Nine\n",
    "\n",
    "a=9\n",
    "while a<=90:\n",
    "    print(a)\n",
    "    a+=9"
   ]
  },
  {
   "cell_type": "code",
   "execution_count": 26,
   "metadata": {},
   "outputs": [
    {
     "name": "stdout",
     "output_type": "stream",
     "text": [
      "9\n",
      "18\n",
      "27\n",
      "36\n",
      "45\n",
      "54\n",
      "63\n",
      "72\n",
      "81\n",
      "90\n"
     ]
    }
   ],
   "source": [
    "#table of nine\n",
    "\n",
    "a=1\n",
    "while a<=10:\n",
    "    print(a*9)\n",
    "    a+=1\n"
   ]
  },
  {
   "cell_type": "markdown",
   "metadata": {},
   "source": [
    "Break and Continue"
   ]
  },
  {
   "cell_type": "code",
   "execution_count": 38,
   "metadata": {},
   "outputs": [
    {
     "name": "stdout",
     "output_type": "stream",
     "text": [
      "2\n",
      "3\n",
      "4\n",
      "5\n",
      "6\n",
      "8\n",
      "9\n",
      "0\n"
     ]
    }
   ],
   "source": [
    "a=[2,3,4,5,6,7,8,9,0]\n",
    "for i in a:\n",
    "    if i==7:\n",
    "        continue\n",
    "    print(i)\n",
    "        "
   ]
  },
  {
   "cell_type": "code",
   "execution_count": 39,
   "metadata": {},
   "outputs": [
    {
     "name": "stdout",
     "output_type": "stream",
     "text": [
      "0\n",
      "1\n",
      "2\n",
      "3\n",
      "4\n",
      "5\n",
      "6\n"
     ]
    }
   ],
   "source": [
    "a=0\n",
    "while a<=10:\n",
    "    if a==7:\n",
    "        break\n",
    "    print(a)\n",
    "    a+=1"
   ]
  },
  {
   "cell_type": "code",
   "execution_count": 53,
   "metadata": {},
   "outputs": [
    {
     "name": "stdout",
     "output_type": "stream",
     "text": [
      "c\n",
      "h\n",
      "i\n"
     ]
    }
   ],
   "source": [
    "a=\"chirag\"\n",
    "for i in a:\n",
    "    if i==\"r\":\n",
    "        break\n",
    "    print(i)\n",
    "    "
   ]
  },
  {
   "cell_type": "code",
   "execution_count": 58,
   "metadata": {},
   "outputs": [
    {
     "name": "stdout",
     "output_type": "stream",
     "text": [
      "mango\n",
      "apple\n",
      "litchi\n"
     ]
    }
   ],
   "source": [
    "a=['mango','apple','potato','litchi']\n",
    "for i in a:\n",
    "    if i=='potato':\n",
    "        continue\n",
    "    print(i)"
   ]
  },
  {
   "cell_type": "code",
   "execution_count": 55,
   "metadata": {},
   "outputs": [
    {
     "name": "stdout",
     "output_type": "stream",
     "text": [
      "your salary after 5% bonus is 21000.0\n"
     ]
    }
   ],
   "source": [
    "sal = int(input(\"Enter your salary\"))\n",
    "seryrs =int(input(\"Enter your years of service\"))\n",
    "if seryrs>5:\n",
    "      print(\"your salary after 5% bonus is\",(.05*sal)+sal)\n",
    "else:\n",
    "      print(\"No bonus\")"
   ]
  },
  {
   "cell_type": "code",
   "execution_count": 23,
   "metadata": {},
   "outputs": [
    {
     "name": "stdout",
     "output_type": "stream",
     "text": [
      "Yes, it is square\n"
     ]
    }
   ],
   "source": [
    "len = (input(\"Enter length\"))\n",
    "brd = (input(\"Enter breadth\"))\n",
    "if len == brd:\n",
    "  print (\"Yes, it is square\")\n",
    "else:\n",
    "  print (\"No, it is only Rectangle\")"
   ]
  },
  {
   "cell_type": "code",
   "execution_count": 56,
   "metadata": {},
   "outputs": [
    {
     "name": "stdout",
     "output_type": "stream",
     "text": [
      "B\n"
     ]
    }
   ],
   "source": [
    "marks=int(input(\"Enter marks\"))\n",
    "if marks<25:\n",
    "  print (\"F\")\n",
    "elif marks>=25 and marks<45:\n",
    "  print (\"E\")\n",
    "elif marks>=45 and marks<50:\n",
    "  print (\"D\")\n",
    "elif marks>=50 and marks<60:\n",
    "  print (\"C\")\n",
    "elif marks>=60 and marks<80:\n",
    "  print (\"B\")\n",
    "else:\n",
    "  print (\"A\")\n"
   ]
  },
  {
   "cell_type": "code",
   "execution_count": 42,
   "metadata": {},
   "outputs": [
    {
     "name": "stdout",
     "output_type": "stream",
     "text": [
      "age1 is oldest\n"
     ]
    }
   ],
   "source": [
    "age1 = (input(\"Enter the age of first person\"))\n",
    "age2 = (input(\"Enter the age of Second person\"))\n",
    "age3 = (input(\"Enter the age of Third person\"))\n",
    "if age1>age2 and age1>age3:\n",
    "    print(\"age1 is oldest\")\n",
    "elif age2>age1 and age2>age3:\n",
    "     print(\"age2 is oldest\")\n",
    "elif age3>age1 and age3>age2:\n",
    "     print(\"age3 is oldest\")\n",
    "else:\n",
    "     print(\"All are equal\")"
   ]
  },
  {
   "cell_type": "code",
   "execution_count": 57,
   "metadata": {},
   "outputs": [
    {
     "name": "stdout",
     "output_type": "stream",
     "text": [
      "attendance is 91.25\n",
      "Eligible for exam\n"
     ]
    }
   ],
   "source": [
    "noh = int(input(\"Enter the number of classes held\"))\n",
    "noa = int(input(\"Enter the number of classes attended\"))\n",
    "atten = (noa/float(noh))*100\n",
    "print(\"attendance is\",atten)\n",
    "if atten >= 75:\n",
    "    print(\"Eligible for exam\")\n",
    "else:\n",
    "    print(\"Not eligible for exam\")"
   ]
  },
  {
   "cell_type": "markdown",
   "metadata": {},
   "source": [
    "functions\n"
   ]
  },
  {
   "cell_type": "code",
   "execution_count": null,
   "metadata": {},
   "outputs": [],
   "source": []
  },
  {
   "cell_type": "code",
   "execution_count": null,
   "metadata": {},
   "outputs": [],
   "source": []
  }
 ],
 "metadata": {
  "kernelspec": {
   "display_name": "base",
   "language": "python",
   "name": "python3"
  },
  "language_info": {
   "codemirror_mode": {
    "name": "ipython",
    "version": 3
   },
   "file_extension": ".py",
   "mimetype": "text/x-python",
   "name": "python",
   "nbconvert_exporter": "python",
   "pygments_lexer": "ipython3",
   "version": "3.12.2"
  }
 },
 "nbformat": 4,
 "nbformat_minor": 2
}
