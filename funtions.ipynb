{
 "cells": [
  {
   "cell_type": "code",
   "execution_count": 3,
   "metadata": {},
   "outputs": [],
   "source": [
    "def greet ():  #funtion definition\n",
    "    print(\"Hello,World\")\n",
    "    print(\"Good Morning\")\n",
    "    print(\"Good Evening\")\n",
    "    print(\"Good Night\")"
   ]
  },
  {
   "cell_type": "code",
   "execution_count": 4,
   "metadata": {},
   "outputs": [
    {
     "name": "stdout",
     "output_type": "stream",
     "text": [
      "Hello,World\n",
      "Good Morning\n",
      "Good Evening\n",
      "Good Night\n"
     ]
    }
   ],
   "source": [
    "#Function call\n",
    "\n",
    "greet()"
   ]
  },
  {
   "cell_type": "code",
   "execution_count": 5,
   "metadata": {},
   "outputs": [
    {
     "name": "stdout",
     "output_type": "stream",
     "text": [
      "Hello, World\n",
      "Good Morning\n"
     ]
    }
   ],
   "source": [
    "def greeting():\n",
    "    print(\"Hello, World\")\n",
    "greeting()\n",
    "print(\"Good Morning\")"
   ]
  },
  {
   "cell_type": "code",
   "execution_count": 6,
   "metadata": {},
   "outputs": [
    {
     "name": "stdout",
     "output_type": "stream",
     "text": [
      "the sum is 70\n"
     ]
    }
   ],
   "source": [
    "def add(num1,num2):  #parameters\n",
    "    sum=num1+num2\n",
    "    print(\"the sum is\",sum)\n",
    "add(30,40)  #arguments"
   ]
  },
  {
   "cell_type": "code",
   "execution_count": 8,
   "metadata": {},
   "outputs": [
    {
     "name": "stdout",
     "output_type": "stream",
     "text": [
      "the sum of 30 and 40 is 70\n"
     ]
    }
   ],
   "source": [
    "def add(num1,num2):  #parameters\n",
    "    sum=num1+num2\n",
    "    print(f\"the sum of {num1} and {num2} is {sum}\")\n",
    "add(30,40)  #arguments"
   ]
  },
  {
   "cell_type": "code",
   "execution_count": 7,
   "metadata": {},
   "outputs": [
    {
     "data": {
      "text/plain": [
       "'Hello! Dewansh'"
      ]
     },
     "execution_count": 7,
     "metadata": {},
     "output_type": "execute_result"
    }
   ],
   "source": [
    "def my_name(name):\n",
    "    return f'Hello! {name}'\n",
    "my_name(\"Dewansh\")"
   ]
  },
  {
   "cell_type": "code",
   "execution_count": 10,
   "metadata": {},
   "outputs": [
    {
     "data": {
      "text/plain": [
       "('Welcome', 'to', 'digipodium')"
      ]
     },
     "execution_count": 10,
     "metadata": {},
     "output_type": "execute_result"
    }
   ],
   "source": [
    "def my_func():\n",
    "    return \"Welcome\",\"to\",\"digipodium\"\n",
    "my_func()"
   ]
  },
  {
   "cell_type": "code",
   "execution_count": 12,
   "metadata": {},
   "outputs": [
    {
     "name": "stdout",
     "output_type": "stream",
     "text": [
      "Welcome\n",
      "to\n",
      "digipodium\n",
      "Welcome to digipodium\n"
     ]
    }
   ],
   "source": [
    "a,b,c=my_func()\n",
    "print(a)\n",
    "print(b)\n",
    "print(c)\n",
    "print(f'{a} {b} {c}')"
   ]
  },
  {
   "cell_type": "code",
   "execution_count": 13,
   "metadata": {},
   "outputs": [
    {
     "data": {
      "text/plain": [
       "25"
      ]
     },
     "execution_count": 13,
     "metadata": {},
     "output_type": "execute_result"
    }
   ],
   "source": [
    "def sq(num):\n",
    "    sq=num*num\n",
    "    return sq   #return works as same as print statement\n",
    "sq(5) "
   ]
  },
  {
   "cell_type": "code",
   "execution_count": 23,
   "metadata": {},
   "outputs": [
    {
     "data": {
      "text/plain": [
       "'square is 16'"
      ]
     },
     "execution_count": 23,
     "metadata": {},
     "output_type": "execute_result"
    }
   ],
   "source": [
    "def sq(num):\n",
    "    sq=num*num\n",
    "    return f'square is {sq}'   #return works as same as print statement\n",
    "sq(4) "
   ]
  },
  {
   "cell_type": "code",
   "execution_count": 18,
   "metadata": {},
   "outputs": [
    {
     "name": "stdout",
     "output_type": "stream",
     "text": [
      "16\n"
     ]
    }
   ],
   "source": [
    "def add(a,b,c):\n",
    "    return a+b+c\n",
    "add=add(3,6,7)\n",
    "print(add)"
   ]
  },
  {
   "cell_type": "code",
   "execution_count": 20,
   "metadata": {},
   "outputs": [
    {
     "data": {
      "text/plain": [
       "66"
      ]
     },
     "execution_count": 20,
     "metadata": {},
     "output_type": "execute_result"
    }
   ],
   "source": [
    "def add(d,e,g):\n",
    "    add=d+e+g\n",
    "    return add\n",
    "add(16,20,30)"
   ]
  },
  {
   "cell_type": "code",
   "execution_count": 24,
   "metadata": {},
   "outputs": [
    {
     "name": "stdout",
     "output_type": "stream",
     "text": [
      "50\n"
     ]
    }
   ],
   "source": [
    "#lambda\n",
    "\n",
    "add = lambda num1,num2:num1+num2\n",
    "print(add(20,30))"
   ]
  },
  {
   "cell_type": "code",
   "execution_count": 25,
   "metadata": {},
   "outputs": [
    {
     "name": "stdout",
     "output_type": "stream",
     "text": [
      "100\n"
     ]
    }
   ],
   "source": [
    "sq = lambda num:num**2\n",
    "print(sq(10))"
   ]
  },
  {
   "cell_type": "code",
   "execution_count": 26,
   "metadata": {},
   "outputs": [
    {
     "name": "stdout",
     "output_type": "stream",
     "text": [
      "154.0\n"
     ]
    }
   ],
   "source": [
    "ar = lambda r:r**2*(22/7)\n",
    "print(ar(7))"
   ]
  },
  {
   "cell_type": "code",
   "execution_count": 28,
   "metadata": {},
   "outputs": [
    {
     "name": "stdout",
     "output_type": "stream",
     "text": [
      "16.0\n"
     ]
    }
   ],
   "source": [
    "ar = lambda r1,h1:r1*h1*(1/2)\n",
    "print(ar(4,8))"
   ]
  },
  {
   "cell_type": "code",
   "execution_count": 3,
   "metadata": {},
   "outputs": [
    {
     "data": {
      "text/plain": [
       "'odd'"
      ]
     },
     "execution_count": 3,
     "metadata": {},
     "output_type": "execute_result"
    }
   ],
   "source": [
    "def even_odd(num3):\n",
    "    if num3%2==0:\n",
    "        \n",
    "        return \"Even\"\n",
    "    else:\n",
    "        return \"odd\"\n",
    "even_odd(5)"
   ]
  },
  {
   "cell_type": "code",
   "execution_count": 14,
   "metadata": {},
   "outputs": [
    {
     "data": {
      "text/plain": [
       "('temperature in fahrenheit', 99.68)"
      ]
     },
     "execution_count": 14,
     "metadata": {},
     "output_type": "execute_result"
    }
   ],
   "source": [
    "def fahr(cel):\n",
    "    fahr=(9/5)*cel+32\n",
    "    return \"temperature in fahrenheit\", fahr\n",
    "fahr(37.6)"
   ]
  },
  {
   "cell_type": "code",
   "execution_count": 15,
   "metadata": {},
   "outputs": [
    {
     "name": "stdout",
     "output_type": "stream",
     "text": [
      "temperature in fahrenheit 99.68\n"
     ]
    }
   ],
   "source": [
    "def fahr(cel):\n",
    "    fahr=(9/5)*cel+32\n",
    "    print(\"temperature in fahrenheit\", fahr)\n",
    "fahr(37.6)"
   ]
  },
  {
   "cell_type": "code",
   "execution_count": 17,
   "metadata": {},
   "outputs": [
    {
     "name": "stdout",
     "output_type": "stream",
     "text": [
      "maximum of 45 and 80 is <function max at 0x000001EC12732520>\n"
     ]
    }
   ],
   "source": [
    "def max(numb1,numb2):\n",
    "    return max(numb1,numb2)\n",
    "numb1=45\n",
    "numb2=80\n",
    "print(f'maximum of {numb1} and {numb2} is {max}')"
   ]
  },
  {
   "cell_type": "code",
   "execution_count": 24,
   "metadata": {},
   "outputs": [
    {
     "name": "stdout",
     "output_type": "stream",
     "text": [
      "number 1 is max\n"
     ]
    }
   ],
   "source": [
    "def max(numb1,numb2):\n",
    "    if numb1>numb2:\n",
    "        print(\"number 1 is max\")\n",
    "    else:\n",
    "        print(\"number2 is max\")\n",
    "max(34,22)"
   ]
  }
 ],
 "metadata": {
  "kernelspec": {
   "display_name": "base",
   "language": "python",
   "name": "python3"
  },
  "language_info": {
   "codemirror_mode": {
    "name": "ipython",
    "version": 3
   },
   "file_extension": ".py",
   "mimetype": "text/x-python",
   "name": "python",
   "nbconvert_exporter": "python",
   "pygments_lexer": "ipython3",
   "version": "3.12.2"
  }
 },
 "nbformat": 4,
 "nbformat_minor": 2
}
