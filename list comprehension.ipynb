{
 "cells": [
  {
   "cell_type": "code",
   "execution_count": null,
   "metadata": {},
   "outputs": [],
   "source": [
    "[2,3,4,5]\n",
    "[4,9,16,25]\n"
   ]
  },
  {
   "cell_type": "code",
   "execution_count": 1,
   "metadata": {},
   "outputs": [
    {
     "name": "stdout",
     "output_type": "stream",
     "text": [
      "[4, 9, 16, 25]\n"
     ]
    }
   ],
   "source": [
    "num=[2,3,4,5]\n",
    "square=[X**2 for X in num]\n",
    "print(square)"
   ]
  },
  {
   "cell_type": "code",
   "execution_count": 2,
   "metadata": {},
   "outputs": [
    {
     "name": "stdout",
     "output_type": "stream",
     "text": [
      "[2, 4, 6, 8]\n"
     ]
    }
   ],
   "source": [
    "num=[2,3,4,5,6,7,8,9]\n",
    "even_number=[x for x in num if x%2==0]\n",
    "print(even_number)"
   ]
  },
  {
   "cell_type": "code",
   "execution_count": 6,
   "metadata": {},
   "outputs": [
    {
     "name": "stdout",
     "output_type": "stream",
     "text": [
      "['banana', 'papaya']\n"
     ]
    }
   ],
   "source": [
    "Fruits =['apple','mango','banana','kiwi','papaya']\n",
    "new_fruits=[x for x in Fruits if len(x)==6]\n",
    "print(new_fruits)\n"
   ]
  },
  {
   "cell_type": "code",
   "execution_count": 17,
   "metadata": {},
   "outputs": [
    {
     "name": "stdout",
     "output_type": "stream",
     "text": [
      "[0, 2, 0, 4, 0, 6, 0, 8, 0, 10]\n"
     ]
    }
   ],
   "source": [
    "list1 = [i if i % 2 == 0 else 0 for i in range(1, 11)]\n",
    "print(list1)\n"
   ]
  },
  {
   "cell_type": "code",
   "execution_count": 21,
   "metadata": {},
   "outputs": [
    {
     "name": "stdout",
     "output_type": "stream",
     "text": [
      "['o']\n"
     ]
    }
   ],
   "source": [
    "word = \"Python\"\n",
    "vowels = ['a','e','i','o','u']\n",
    "result = [char for char in word if char in vowels]\n",
    "print(result)"
   ]
  }
 ],
 "metadata": {
  "kernelspec": {
   "display_name": "base",
   "language": "python",
   "name": "python3"
  },
  "language_info": {
   "codemirror_mode": {
    "name": "ipython",
    "version": 3
   },
   "file_extension": ".py",
   "mimetype": "text/x-python",
   "name": "python",
   "nbconvert_exporter": "python",
   "pygments_lexer": "ipython3",
   "version": "3.12.2"
  }
 },
 "nbformat": 4,
 "nbformat_minor": 2
}
