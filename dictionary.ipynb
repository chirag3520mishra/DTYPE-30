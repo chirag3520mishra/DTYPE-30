{
 "cells": [
  {
   "cell_type": "code",
   "execution_count": 1,
   "metadata": {},
   "outputs": [
    {
     "name": "stdout",
     "output_type": "stream",
     "text": [
      "{'name': 'john', 'class': '2nd', 'roll': '21', 'marks': '90'}\n"
     ]
    }
   ],
   "source": [
    "students = {'name':'john',\n",
    "            'class':'2nd',\n",
    "            'roll':'21',\n",
    "            'marks':'90'}\n",
    "print(students)"
   ]
  },
  {
   "cell_type": "code",
   "execution_count": 3,
   "metadata": {},
   "outputs": [
    {
     "name": "stdout",
     "output_type": "stream",
     "text": [
      "john\n",
      "21\n"
     ]
    }
   ],
   "source": [
    "#1st method\n",
    "print(students['name'])\n",
    "print(students['roll'])"
   ]
  },
  {
   "cell_type": "code",
   "execution_count": 8,
   "metadata": {},
   "outputs": [
    {
     "name": "stdout",
     "output_type": "stream",
     "text": [
      "john\n",
      "21\n"
     ]
    }
   ],
   "source": [
    "#2nd method\n",
    "print(students.get('name'))\n",
    "print(students.get('roll'))"
   ]
  },
  {
   "cell_type": "code",
   "execution_count": 9,
   "metadata": {},
   "outputs": [
    {
     "name": "stdout",
     "output_type": "stream",
     "text": [
      "{'name': 'john', 'class': '2nd', 'roll': '21', 'marks': '90', 'age': 21, 'phone': 9555489494, 'address': 'downtown'}\n"
     ]
    }
   ],
   "source": [
    "#To add items in a dictionary\n",
    "students['age']=21\n",
    "students['phone']=9555489494\n",
    "students['address']='downtown'\n",
    "print(students)"
   ]
  },
  {
   "cell_type": "code",
   "execution_count": 10,
   "metadata": {},
   "outputs": [
    {
     "name": "stdout",
     "output_type": "stream",
     "text": [
      "name\n",
      "class\n",
      "roll\n",
      "marks\n",
      "age\n",
      "phone\n",
      "address\n"
     ]
    }
   ],
   "source": [
    "for key in students:\n",
    "    print(key)"
   ]
  },
  {
   "cell_type": "code",
   "execution_count": 12,
   "metadata": {},
   "outputs": [
    {
     "name": "stdout",
     "output_type": "stream",
     "text": [
      "john\n",
      "2nd\n",
      "21\n",
      "90\n",
      "21\n",
      "9555489494\n",
      "downtown\n"
     ]
    }
   ],
   "source": [
    "for value in students:\n",
    "    print(students[value])"
   ]
  },
  {
   "cell_type": "code",
   "execution_count": 16,
   "metadata": {},
   "outputs": [
    {
     "name": "stdout",
     "output_type": "stream",
     "text": [
      "name : john\n",
      "class : 2nd\n",
      "roll : 21\n",
      "marks : 90\n",
      "age : 21\n",
      "phone : 9555489494\n",
      "address : downtown\n"
     ]
    }
   ],
   "source": [
    "for key,value in students.items():\n",
    "    print(f'{key} : {value}') "
   ]
  },
  {
   "cell_type": "code",
   "execution_count": 22,
   "metadata": {},
   "outputs": [
    {
     "name": "stdout",
     "output_type": "stream",
     "text": [
      "{'name': 'suraj', 'age': 25, 'dept': 'marketing', 'salary': 35000}\n",
      "21\n",
      "{'emp001': {'name': 'aman', 'age': 21, 'dept': 'HR', 'salary': 30000}, 'emp002': {'name': 'suraj', 'age': 25, 'dept': 'marketing', 'salary': 35000}, 'emp004': {'name': 'david', 'age': 21, 'dept': 'sale', 'salary': 39000}}\n"
     ]
    }
   ],
   "source": [
    "company = {\n",
    "    'emp001' : {'name':'aman','age': 21,'dept':'HR','salary':30000},\n",
    "    'emp002' : {'name':'suraj','age': 25,'dept':'marketing','salary':35000}\n",
    "}\n",
    "print(company['emp002'])                #to print items of certain employe\n",
    "print(company['emp001']['age'])         #to print age of employee\n",
    "company['emp004'] = {'name':'david','age':21,'dept':'sale','salary':39000}  # to add items in a dictionary\n",
    "print(company)"
   ]
  },
  {
   "cell_type": "code",
   "execution_count": null,
   "metadata": {},
   "outputs": [],
   "source": []
  }
 ],
 "metadata": {
  "kernelspec": {
   "display_name": "base",
   "language": "python",
   "name": "python3"
  },
  "language_info": {
   "codemirror_mode": {
    "name": "ipython",
    "version": 3
   },
   "file_extension": ".py",
   "mimetype": "text/x-python",
   "name": "python",
   "nbconvert_exporter": "python",
   "pygments_lexer": "ipython3",
   "version": "3.12.2"
  }
 },
 "nbformat": 4,
 "nbformat_minor": 2
}
