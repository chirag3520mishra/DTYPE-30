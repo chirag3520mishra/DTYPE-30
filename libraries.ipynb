{
 "cells": [
  {
   "cell_type": "markdown",
   "metadata": {},
   "source": [
    "math  function"
   ]
  },
  {
   "cell_type": "code",
   "execution_count": 3,
   "metadata": {},
   "outputs": [],
   "source": [
    "import math"
   ]
  },
  {
   "cell_type": "code",
   "execution_count": 4,
   "metadata": {},
   "outputs": [
    {
     "name": "stdout",
     "output_type": "stream",
     "text": [
      "3.605551275463989\n",
      "120\n",
      "6.643856189774725\n",
      "1\n",
      "252\n",
      "3.141592653589793\n",
      "2.718281828459045\n",
      "-0.9880316240928618\n"
     ]
    }
   ],
   "source": [
    "print(math.sqrt(13))\n",
    "print(math.factorial(5))\n",
    "print(math.log(100,2))\n",
    "print(math.gcd(14,89,76))\n",
    "print(math.lcm(12,18,14))\n",
    "print(math.pi)\n",
    "print(math.e)\n",
    "print(math.sin(30))"
   ]
  },
  {
   "cell_type": "markdown",
   "metadata": {},
   "source": []
  },
  {
   "cell_type": "code",
   "execution_count": 5,
   "metadata": {},
   "outputs": [
    {
     "name": "stdout",
     "output_type": "stream",
     "text": [
      "get a randon number 0 and 1: 0.758477139777173\n",
      "get a random number between 0 and 10: 9\n",
      "select a random items win\n",
      "shuffle a list ['jane', 'jack', 'john']\n"
     ]
    }
   ],
   "source": [
    "from random import random,randint,choice,shuffle\n",
    "print('get a randon number 0 and 1:',random())\n",
    "print('get a random number between 0 and 10:',randint(1,10))\n",
    "print(\"select a random items\",choice(['win','lose','draw']))\n",
    "names = ['john','jane','jack']\n",
    "shuffle(names)\n",
    "print('shuffle a list',names)"
   ]
  },
  {
   "cell_type": "code",
   "execution_count": 6,
   "metadata": {},
   "outputs": [
    {
     "name": "stdout",
     "output_type": "stream",
     "text": [
      "current time: 2024-05-22 15:39:14.269512\n"
     ]
    }
   ],
   "source": [
    "from datetime import datetime as dt\n",
    "print(\"current time:\",dt.now())"
   ]
  },
  {
   "cell_type": "code",
   "execution_count": 7,
   "metadata": {},
   "outputs": [
    {
     "name": "stdout",
     "output_type": "stream",
     "text": [
      "current date: 2024-05-22\n",
      "current time: 15:39:14.296700\n"
     ]
    }
   ],
   "source": [
    "print(\"current date:\",dt.now().date())\n",
    "print(\"current time:\",dt.now().time())\n"
   ]
  },
  {
   "cell_type": "code",
   "execution_count": 8,
   "metadata": {},
   "outputs": [
    {
     "name": "stdout",
     "output_type": "stream",
     "text": [
      "current year: 2024\n",
      "current month: 5\n",
      "current day: 22\n",
      "current hour: 15\n",
      "current minute: 39\n",
      "current second: 14\n",
      "current weekday: 2\n"
     ]
    }
   ],
   "source": [
    "print(\"current year:\",dt.now().year)\n",
    "print(\"current month:\",dt.now().month)\n",
    "print(\"current day:\",dt.now().day)\n",
    "print(\"current hour:\",dt.now().hour)\n",
    "print(\"current minute:\",dt.now().minute)\n",
    "print(\"current second:\",dt.now().second)\n",
    "print(\"current weekday:\",dt.now().weekday())"
   ]
  },
  {
   "cell_type": "code",
   "execution_count": 9,
   "metadata": {},
   "outputs": [
    {
     "name": "stdout",
     "output_type": "stream",
     "text": [
      "formatted date: 22/05/24\n"
     ]
    }
   ],
   "source": [
    "date = dt.strftime(dt.now(), \"%d/%m/%y\")\n",
    "print(\"formatted date:\",date)"
   ]
  },
  {
   "cell_type": "code",
   "execution_count": 10,
   "metadata": {},
   "outputs": [
    {
     "name": "stdout",
     "output_type": "stream",
     "text": [
      "formatted time: 15:39:14\n"
     ]
    }
   ],
   "source": [
    "time = dt.strftime(dt.now(), \"%H:%M:%S\")\n",
    "print(\"formatted time:\",time)"
   ]
  },
  {
   "cell_type": "code",
   "execution_count": 11,
   "metadata": {},
   "outputs": [],
   "source": [
    "import os #to know about folder ,file,directories\n"
   ]
  },
  {
   "cell_type": "code",
   "execution_count": 12,
   "metadata": {},
   "outputs": [
    {
     "name": "stdout",
     "output_type": "stream",
     "text": [
      "current folder c:\\Users\\Home\\Documents\\DTYPE 30\n"
     ]
    }
   ],
   "source": [
    "print(\"current folder\",os.getcwd())"
   ]
  },
  {
   "cell_type": "code",
   "execution_count": 13,
   "metadata": {},
   "outputs": [
    {
     "name": "stdout",
     "output_type": "stream",
     "text": [
      "['.git', 'dataanalysis.ipynb', 'dictionary.ipynb', 'dtype.ipynb', 'funtions.ipynb', 'Introduction (1).ipynb', 'libraries.ipynb', 'list comprehension.ipynb', 'quiz (1).ipynb', 'string functions .ipynb']\n"
     ]
    }
   ],
   "source": [
    "files  = os.listdir()\n",
    "print(files)"
   ]
  },
  {
   "cell_type": "code",
   "execution_count": 14,
   "metadata": {},
   "outputs": [
    {
     "name": "stdout",
     "output_type": "stream",
     "text": [
      "10\n"
     ]
    }
   ],
   "source": [
    "print(len(files))"
   ]
  },
  {
   "cell_type": "code",
   "execution_count": 15,
   "metadata": {},
   "outputs": [
    {
     "data": {
      "text/plain": [
       "<generator object walk at 0x000001FD51846880>"
      ]
     },
     "execution_count": 15,
     "metadata": {},
     "output_type": "execute_result"
    }
   ],
   "source": [
    "os.walk('c:')    #walk through all the folders and files"
   ]
  },
  {
   "cell_type": "code",
   "execution_count": 16,
   "metadata": {},
   "outputs": [
    {
     "name": "stdout",
     "output_type": "stream",
     "text": [
      "total_files 0\n"
     ]
    }
   ],
   "source": [
    "total_files = 0\n",
    "for path,folder,files in os.walk(r\"C:\\Users\\Home\\Downloads\\ntcc report bca 6 new.pdf\"):\n",
    "    print('=>', path)\n",
    "    print(\"📁\", folder)\n",
    "    print(':',files)\n",
    "    total_files += len(files)\n",
    "print(\"total_files\", total_files)\n"
   ]
  },
  {
   "cell_type": "code",
   "execution_count": 17,
   "metadata": {},
   "outputs": [
    {
     "name": "stdout",
     "output_type": "stream",
     "text": [
      "file exist\n"
     ]
    }
   ],
   "source": [
    "files = r\"C:\\Users\\Home\\Downloads\\ntcc report bca 6 new.pdf\"\n",
    "if os.path.exists(files):\n",
    "    print(\"file exist\")\n"
   ]
  }
 ],
 "metadata": {
  "kernelspec": {
   "display_name": "base",
   "language": "python",
   "name": "python3"
  },
  "language_info": {
   "codemirror_mode": {
    "name": "ipython",
    "version": 3
   },
   "file_extension": ".py",
   "mimetype": "text/x-python",
   "name": "python",
   "nbconvert_exporter": "python",
   "pygments_lexer": "ipython3",
   "version": "3.12.2"
  }
 },
 "nbformat": 4,
 "nbformat_minor": 2
}
